{
 "cells": [
  {
   "cell_type": "code",
   "execution_count": 1,
   "id": "e16b7697",
   "metadata": {},
   "outputs": [],
   "source": [
    "# transform\n",
    "# 데이터 불러오며 전처리를 할 수 있게 해줌 (Nomarlization, 좌우위아래 flip 등)"
   ]
  },
  {
   "cell_type": "code",
   "execution_count": 2,
   "id": "83896ede",
   "metadata": {},
   "outputs": [],
   "source": [
    "import os\n",
    "import numpy as np\n",
    "import matplotlib.pyplot as plt\n",
    "\n",
    "import torch\n",
    "import torch.nn as nn\n",
    "from torch.utils.data import DataLoader\n",
    "from torch.utils.tensorboard import SummaryWriter\n",
    "from torchvision import transforms, datasets\n",
    "from PIL import Image"
   ]
  },
  {
   "cell_type": "code",
   "execution_count": 4,
   "id": "bcf463da",
   "metadata": {},
   "outputs": [],
   "source": [
    "# ToTensor() : numpy -> tensor로 변환\n",
    "\n",
    "class ToTensor(object) :\n",
    "    def __call__(self, data) :\n",
    "        label, input = data['label'], data['input']\n",
    "        \n",
    "        # Image의 Numpy 차원 = (Y,X,ch)\n",
    "        # Image의 tensor 차원 = (ch,Y,X)\n",
    "        label = label.transpose(s(2,0,1)).astype(np.float32)\n",
    "        input = input.transpose(s(2,0,1)).astype(np.float32)\n",
    "        \n",
    "        data = {'label': torch.from_numpy(label), 'input': torch.from_numpy(input)}\n",
    "        \n",
    "        return data\n",
    "\n",
    "class Normalization(object) :\n",
    "    def __init__(self, mean=0.5, std=0.5) :\n",
    "        self.mean = mean\n",
    "        self.std = std\n",
    "    \n",
    "    def __call__(self, data) :\n",
    "        label, input = data['lable'], data['input']\n",
    "        \n",
    "        input = (inputput - self.mean) / self.std\n",
    "        data = {'label' :label, 'input':input}\n",
    "        \n",
    "        return data\n",
    "    \n",
    "class RandomFlip(object) :\n",
    "    def __init__ (self, data) :\n",
    "        label, input = data['label'], data['input']\n",
    "        \n",
    "        if np.random.rand() > 0.5: # 50% 확률\n",
    "            label = np.fliplr(label)\n",
    "            input = np.fliplr(input)\n",
    "        \n",
    "        if np.random.rand() > 0.5 :\n",
    "            label = np.flipud(label)\n",
    "            input = np.flipud(input)\n",
    "        \n",
    "        data = {'label' :label, 'input':input}\n",
    "        \n",
    "        return data"
   ]
  },
  {
   "cell_type": "code",
   "execution_count": 5,
   "id": "3d138ac4",
   "metadata": {},
   "outputs": [
    {
     "ename": "NameError",
     "evalue": "name 'Dataset' is not defined",
     "output_type": "error",
     "traceback": [
      "\u001b[0;31m---------------------------------------------------------------------------\u001b[0m",
      "\u001b[0;31mNameError\u001b[0m                                 Traceback (most recent call last)",
      "Cell \u001b[0;32mIn[5], line 2\u001b[0m\n\u001b[1;32m      1\u001b[0m transform \u001b[38;5;241m=\u001b[39m transforms\n\u001b[0;32m----> 2\u001b[0m dataset_train \u001b[38;5;241m=\u001b[39m \u001b[43mDataset\u001b[49m(data_dir \u001b[38;5;241m=\u001b[39m \u001b[38;5;124m'\u001b[39m\u001b[38;5;124m/home/blue/Desktop/Daeheon/conda/Deeplearning/UNet/data/train/\u001b[39m\u001b[38;5;124m'\u001b[39m)\n\u001b[1;32m      3\u001b[0m data \u001b[38;5;241m=\u001b[39m dataset_train\u001b[38;5;241m.\u001b[39m\u001b[38;5;21m__getitem__\u001b[39m(\u001b[38;5;241m0\u001b[39m)\n\u001b[1;32m      5\u001b[0m label \u001b[38;5;241m=\u001b[39m data[\u001b[38;5;124m'\u001b[39m\u001b[38;5;124mlabel\u001b[39m\u001b[38;5;124m'\u001b[39m]\n",
      "\u001b[0;31mNameError\u001b[0m: name 'Dataset' is not defined"
     ]
    }
   ],
   "source": [
    "transform = transforms\n",
    "dataset_train = Dataset(data_dir = '/home/blue/Desktop/Daeheon/conda/Deeplearning/UNet/data/train/')\n",
    "data = dataset_train.__getitem__(0)\n",
    "\n",
    "label = data['label']\n",
    "input = data['input']\n",
    "\n",
    "plt.subplot(121)\n",
    "plt.imshow(label.squeeze())\n",
    "plt.subplot(121)\n",
    "plt.imshow(input.squeeze())\n",
    "\n",
    "plt.show()"
   ]
  },
  {
   "cell_type": "code",
   "execution_count": null,
   "id": "cc4b4110",
   "metadata": {},
   "outputs": [],
   "source": []
  }
 ],
 "metadata": {
  "kernelspec": {
   "display_name": "Python 3",
   "language": "python",
   "name": "python3"
  },
  "language_info": {
   "codemirror_mode": {
    "name": "ipython",
    "version": 3
   },
   "file_extension": ".py",
   "mimetype": "text/x-python",
   "name": "python",
   "nbconvert_exporter": "python",
   "pygments_lexer": "ipython3",
   "version": "3.9.16"
  },
  "toc": {
   "base_numbering": 1,
   "nav_menu": {},
   "number_sections": true,
   "sideBar": true,
   "skip_h1_title": false,
   "title_cell": "Table of Contents",
   "title_sidebar": "Contents",
   "toc_cell": false,
   "toc_position": {},
   "toc_section_display": true,
   "toc_window_display": false
  }
 },
 "nbformat": 4,
 "nbformat_minor": 5
}
